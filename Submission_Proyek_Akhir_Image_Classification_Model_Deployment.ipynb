{
  "nbformat": 4,
  "nbformat_minor": 0,
  "metadata": {
    "colab": {
      "provenance": [],
      "collapsed_sections": [],
      "mount_file_id": "1TPUq1vGnT8gKnLosrL-FxRKwcelCmDzN",
      "authorship_tag": "ABX9TyOmTvjcnJuT9plIRfa5nLsL",
      "include_colab_link": true
    },
    "kernelspec": {
      "name": "python3",
      "display_name": "Python 3"
    },
    "language_info": {
      "name": "python"
    }
  },
  "cells": [
    {
      "cell_type": "markdown",
      "metadata": {
        "id": "view-in-github",
        "colab_type": "text"
      },
      "source": [
        "<a href=\"https://colab.research.google.com/github/alipk26/Submission-Proyek-Akhir-Image-Classification-Model-Deployment/blob/main/Submission_Proyek_Akhir_Image_Classification_Model_Deployment.ipynb\" target=\"_parent\"><img src=\"https://colab.research.google.com/assets/colab-badge.svg\" alt=\"Open In Colab\"/></a>"
      ]
    },
    {
      "cell_type": "markdown",
      "source": [
        "#import library"
      ],
      "metadata": {
        "id": "OU7l81wz93pO"
      }
    },
    {
      "cell_type": "code",
      "source": [
        "import numpy as np\n",
        "import pandas as pd \n",
        "import os\n",
        "import cv2\n",
        "import matplotlib.pyplot as plt\n",
        "import pathlib\n",
        "import tensorflow as tf\n",
        "from tensorflow import keras\n",
        "from tensorflow.keras.preprocessing.image import ImageDataGenerator\n",
        "from tensorflow.keras.preprocessing import image"
      ],
      "metadata": {
        "id": "WYzrlZ3fzAJb"
      },
      "execution_count": null,
      "outputs": []
    },
    {
      "cell_type": "markdown",
      "source": [
        "#mengelola dataset"
      ],
      "metadata": {
        "id": "xIfuEbHt99WY"
      }
    },
    {
      "cell_type": "code",
      "source": [
        "train = ImageDataGenerator(rescale=1/255,validation_split=0.2)\n",
        "test = ImageDataGenerator(rescale=1/255,validation_split=0.2)"
      ],
      "metadata": {
        "id": "2cfVSa5EzFpM"
      },
      "execution_count": null,
      "outputs": []
    },
    {
      "cell_type": "code",
      "source": [
        "train_dataset = train.flow_from_directory(\"/content/drive/MyDrive/cheetahorheyna/train\", \n",
        "                                          target_size=(200, 200), class_mode = 'binary')\n",
        "val_set = test.flow_from_directory(\"/content/drive/MyDrive/cheetahorheyna/validation\",\n",
        "                                   target_size=(200, 200), class_mode = 'binary')"
      ],
      "metadata": {
        "colab": {
          "base_uri": "https://localhost:8080/"
        },
        "id": "C4ezL3U3zHGk",
        "outputId": "7d3dd148-2cad-454b-94b3-8286f20714e0"
      },
      "execution_count": null,
      "outputs": [
        {
          "output_type": "stream",
          "name": "stdout",
          "text": [
            "Found 1800 images belonging to 2 classes.\n",
            "Found 200 images belonging to 2 classes.\n"
          ]
        }
      ]
    },
    {
      "cell_type": "markdown",
      "source": [
        "#fungsi callback"
      ],
      "metadata": {
        "id": "USsQGgn49-Zl"
      }
    },
    {
      "cell_type": "code",
      "source": [
        "class myCallback(tf.keras.callbacks.Callback):\n",
        "  def on_epoch_end(self, epoch, logs={}):\n",
        "    if(logs.get('accuracy')>0.80 and logs.get('val_accuracy')>0.80):\n",
        "      print(\"\\nAkurasi dan validasi telah mencapai nilai > 80%!\")\n",
        "      self.model.stop_training = True\n",
        "callbacks = myCallback()"
      ],
      "metadata": {
        "id": "sJemVlZRzZWI"
      },
      "execution_count": null,
      "outputs": []
    },
    {
      "cell_type": "markdown",
      "source": [
        "#model sequential dan Conv2D Maxpooling Layer."
      ],
      "metadata": {
        "id": "pAE4IZzK-A72"
      }
    },
    {
      "cell_type": "code",
      "source": [
        "model = keras.Sequential()\n",
        "\n",
        "model.add(keras.layers.Conv2D(32,(3,3),activation='relu',input_shape=(200,200,3)))\n",
        "model.add(keras.layers.MaxPool2D(2,2))\n",
        "\n",
        "model.add(keras.layers.Conv2D(64,(3,3),activation='relu'))\n",
        "model.add(keras.layers.MaxPool2D(2,2))\n",
        "\n",
        "model.add(keras.layers.Conv2D(128,(3,3),activation='relu'))\n",
        "model.add(keras.layers.MaxPool2D(2,2))\n",
        "\n",
        "model.add(keras.layers.Conv2D(128,(3,3),activation='relu'))\n",
        "model.add(keras.layers.MaxPool2D(2,2))\n",
        "\n",
        "model.add(keras.layers.Flatten())\n",
        "model.add(keras.layers.Dense(512,activation='relu'))\n",
        "model.add(keras.layers.Dense(1,activation='sigmoid'))"
      ],
      "metadata": {
        "id": "OufcPs4IzJGe"
      },
      "execution_count": null,
      "outputs": []
    },
    {
      "cell_type": "code",
      "source": [
        "model.compile(optimizer='adam',loss='binary_crossentropy',metrics=['accuracy'])"
      ],
      "metadata": {
        "id": "E6pX1urWzOM2"
      },
      "execution_count": null,
      "outputs": []
    },
    {
      "cell_type": "markdown",
      "source": [
        "#fungsi fit"
      ],
      "metadata": {
        "id": "_ZRETQry-MFR"
      }
    },
    {
      "cell_type": "code",
      "source": [
        "history = model.fit(train_dataset, epochs=100, validation_data = val_set, \n",
        "          callbacks=[callbacks])"
      ],
      "metadata": {
        "colab": {
          "base_uri": "https://localhost:8080/"
        },
        "id": "jhyInrSCzQVR",
        "outputId": "49b253ea-77f5-419c-8e08-46d35c8c5425"
      },
      "execution_count": null,
      "outputs": [
        {
          "output_type": "stream",
          "name": "stdout",
          "text": [
            "Epoch 1/100\n",
            "57/57 [==============================] - 193s 3s/step - loss: 0.6185 - accuracy: 0.6311 - val_loss: 0.4115 - val_accuracy: 0.7900\n",
            "Epoch 2/100\n",
            "57/57 [==============================] - ETA: 0s - loss: 0.4045 - accuracy: 0.8083\n",
            "Akurasi dan validasi telah mencapai nilai > 80%!\n",
            "57/57 [==============================] - 168s 3s/step - loss: 0.4045 - accuracy: 0.8083 - val_loss: 0.3346 - val_accuracy: 0.8450\n"
          ]
        }
      ]
    },
    {
      "cell_type": "markdown",
      "source": [
        "#plot loss"
      ],
      "metadata": {
        "id": "G7GqZAP_-WL8"
      }
    },
    {
      "cell_type": "code",
      "source": [
        "plt.plot(history.history['loss'], label='Training Loss')\n",
        "plt.plot(history.history['val_loss'], label='Validation Loss')\n",
        "plt.title('Loss Plot')\n",
        "plt.ylabel('Value')\n",
        "plt.xlabel('Epoch')\n",
        "plt.legend(loc=\"upper right\")\n",
        "plt.show()"
      ],
      "metadata": {
        "colab": {
          "base_uri": "https://localhost:8080/",
          "height": 295
        },
        "id": "M6IjYu_ozVOU",
        "outputId": "4ce7454a-6e03-4576-f49d-df318bff7b20"
      },
      "execution_count": null,
      "outputs": [
        {
          "output_type": "display_data",
          "data": {
            "text/plain": [
              "<Figure size 432x288 with 1 Axes>"
            ],
            "image/png": "[encoded data removed]"
          },
          "metadata": {
            "needs_background": "light"
          }
        }
      ]
    },
    {
      "cell_type": "markdown",
      "source": [
        "#plot accuracy"
      ],
      "metadata": {
        "id": "5ubgIyAS-XvM"
      }
    },
    {
      "cell_type": "code",
      "source": [
        "plt.plot(history.history['accuracy'], label='Training Accuracy')\n",
        "plt.plot(history.history['val_accuracy'], label='Validation Accuracy')\n",
        "plt.title('Accuracy Plot')\n",
        "plt.ylabel('Value')\n",
        "plt.xlabel('Epoch')\n",
        "plt.legend(loc=\"lower right\")\n",
        "plt.show()"
      ],
      "metadata": {
        "colab": {
          "base_uri": "https://localhost:8080/",
          "height": 295
        },
        "id": "SCVgfMgmzWQv",
        "outputId": "cd155a75-defd-4c79-9b59-3e6b4031515d"
      },
      "execution_count": null,
      "outputs": [
        {
          "output_type": "display_data",
          "data": {
            "text/plain": [
              "<Figure size 432x288 with 1 Axes>"
            ],
            "image/png": "[encoded data removed]"
          },
          "metadata": {
            "needs_background": "light"
          }
        }
      ]
    },
    {
      "cell_type": "markdown",
      "source": [
        "#menyimpan model dengan format vegs.tflite"
      ],
      "metadata": {
        "id": "w5vnrlfg-aaa"
      }
    },
    {
      "cell_type": "code",
      "source": [
        "export_dir = 'saved_model/'\n",
        "tf.saved_model.save(model, export_dir)\n",
        " \n",
        "converter = tf.lite.TFLiteConverter.from_saved_model(export_dir)\n",
        "tflite_model = converter.convert()\n",
        " \n",
        "tflite_model_file = pathlib.Path('vegs.tflite')\n",
        "tflite_model_file.write_bytes(tflite_model)"
      ],
      "metadata": {
        "colab": {
          "base_uri": "https://localhost:8080/"
        },
        "id": "XTfoELnk0AdP",
        "outputId": "30832bf9-dbab-4de6-964f-07d362fd7e19"
      },
      "execution_count": null,
      "outputs": [
        {
          "output_type": "execute_result",
          "data": {
            "text/plain": [
              "27186176"
            ]
          },
          "metadata": {},
          "execution_count": 68
        }
      ]
    }
  ]
}